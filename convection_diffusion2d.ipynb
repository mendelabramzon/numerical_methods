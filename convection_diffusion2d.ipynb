{
 "cells": [
  {
   "cell_type": "markdown",
   "metadata": {},
   "source": [
    "## Step 1: Problem Formulation\n",
    "\n",
    "$$-\\nabla \\cdot (K \\nabla u) + \\beta \\cdot \\nabla u = 0$$\n",
    "\n",
    "Where:\n",
    "\n",
    "- u  is the concentration of the solute.\t \n",
    "\n",
    "- K  is the diffusion coefficient, assumed constant.\n",
    "\n",
    "- $\\beta$  is the velocity vector, also assumed constant.\n"
   ]
  },
  {
   "cell_type": "markdown",
   "metadata": {},
   "source": []
  },
  {
   "cell_type": "markdown",
   "metadata": {},
   "source": []
  }
 ],
 "metadata": {
  "language_info": {
   "name": "python"
  }
 },
 "nbformat": 4,
 "nbformat_minor": 2
}
