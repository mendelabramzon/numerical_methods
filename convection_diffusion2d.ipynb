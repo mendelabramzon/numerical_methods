{
 "cells": [
  {
   "cell_type": "markdown",
   "metadata": {},
   "source": [
    "# FEM 1D "
   ]
  },
  {
   "cell_type": "markdown",
   "metadata": {},
   "source": [
    "## 1. Problem formulation\n",
    "Find $u:I\\to\\mathbb{R}, \\ I=[0,1]$ such that \n",
    "$$ -(K(x)u')'=f(x)$$\n",
    "$$u(0)=0$$\n",
    "$$u(1)=0$$\n",
    "where \n",
    "$K(x)=1$ is the diffusion coefficient\n",
    "\n",
    "$f(x)=1$ is the source "
   ]
  },
  {
   "cell_type": "markdown",
   "metadata": {},
   "source": []
  },
  {
   "cell_type": "markdown",
   "metadata": {},
   "source": [
    "## Step 1: Problem Formulation\n",
    "\n",
    "$$-\\nabla \\cdot (K \\nabla u) + \\beta \\cdot \\nabla u = 0$$\n",
    "\n",
    "Where:\n",
    "\n",
    "- u  is the concentration of the solute.\t \n",
    "\n",
    "- K  is the diffusion coefficient, assumed constant.\n",
    "\n",
    "- $\\beta$  is the velocity vector, also assumed constant.\n"
   ]
  }
 ],
 "metadata": {
  "language_info": {
   "name": "python"
  }
 },
 "nbformat": 4,
 "nbformat_minor": 2
}
